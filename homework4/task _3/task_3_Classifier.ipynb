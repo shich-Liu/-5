{
 "cells": [
  {
   "cell_type": "code",
   "execution_count": 19,
   "id": "b6073bc7",
   "metadata": {},
   "outputs": [],
   "source": [
    "import numpy\n",
    "from pyspark.ml import Pipeline\n",
    "from pyspark.sql import SparkSession\n",
    "from pyspark.ml.feature import VectorAssembler, StringIndexer\n",
    "from pyspark.sql.functions import col\n",
    "from pyspark.ml.classification import LogisticRegression, RandomForestClassifier, GBTClassifier\n",
    "from pyspark.ml.classification import MultilayerPerceptronClassifier\n",
    "from pyspark.ml.evaluation import MulticlassClassificationEvaluator"
   ]
  },
  {
   "cell_type": "markdown",
   "id": "33350ae9",
   "metadata": {},
   "source": [
    "## 读取数据"
   ]
  },
  {
   "cell_type": "code",
   "execution_count": 20,
   "id": "b3f19003",
   "metadata": {},
   "outputs": [],
   "source": [
    "# 初始化Spark会话\n",
    "spark = SparkSession.builder.appName(\"Classifier\").getOrCreate()\n",
    "\n",
    "# 读取CSV文件\n",
    "train_data = spark.read.csv(\"file:///home/Lsc/train_data/part-00000.csv\", header=True, inferSchema=True)\n",
    "test_data = spark.read.csv(\"file:///home/Lsc/test_data/part-00000.csv\", header=True, inferSchema=True)\n",
    "# 选择相关特征和目标列\n",
    "feature_columns = [\n",
    "    \"CNT_CHILDREN_value\", \"REGION_POPULATION_RELATIVE_value\", \"FLAG_EMP_PHONE_value\",\n",
    "    \"FLAG_WORK_PHONE_value\", \"FLAG_CONT_MOBILE_value\", \"FLAG_PHONE_value\", \"FLAG_EMAIL_value\",\n",
    "    \"REGION_RATING_CLIENT_value\", \"REGION_RATING_CLIENT_W_CITY_value\", \"REG_REGION_NOT_WORK_REGION_value\",\n",
    "    \"LIVE_REGION_NOT_WORK_REGION_value\", \"REG_CITY_NOT_LIVE_CITY_value\", \"REG_CITY_NOT_WORK_CITY_value\",\n",
    "    \"LIVE_CITY_NOT_WORK_CITY_value\", \"HOUR_APPR_PROCESS_START_value\", \"WEEKDAY_INDEX_value\"\n",
    "]"
   ]
  },
  {
   "cell_type": "code",
   "execution_count": 21,
   "id": "883b6f34",
   "metadata": {},
   "outputs": [],
   "source": [
    "# 特征向量\n",
    "assembler = VectorAssembler(inputCols=feature_columns, outputCol=\"features\")\n",
    "train_data = assembler.transform(train_data)\n",
    "test_data = assembler.transform(test_data)"
   ]
  },
  {
   "cell_type": "markdown",
   "id": "f256e24e",
   "metadata": {},
   "source": [
    "## LogisticRegression"
   ]
  },
  {
   "cell_type": "code",
   "execution_count": 5,
   "id": "55c263c7",
   "metadata": {},
   "outputs": [],
   "source": [
    "# 初始化模型\n",
    "lr = LogisticRegression(featuresCol=\"features\", labelCol=\"TARGET\")\n",
    "\n",
    "# 训练模型\n",
    "lr_model = lr.fit(train_data)\n",
    "\n",
    "# 测试集上进行预测\n",
    "lr_predictions = lr_model.transform(test_data)"
   ]
  },
  {
   "cell_type": "code",
   "execution_count": 6,
   "id": "1bd49606",
   "metadata": {},
   "outputs": [
    {
     "name": "stdout",
     "output_type": "stream",
     "text": [
      "Logistic Regression Accuracy: 0.9228509648729142\n",
      "Logistic Regression F1 Score: 0.8858241423023199\n",
      "Logistic Regression Recall: 0.9228509648729142\n"
     ]
    }
   ],
   "source": [
    "# 初始化评估器\n",
    "evaluator = MulticlassClassificationEvaluator(labelCol=\"TARGET\", predictionCol=\"prediction\")\n",
    "\n",
    "# 评估模型的准确率\n",
    "lr_accuracy = evaluator.evaluate(lr_predictions, {evaluator.metricName: \"accuracy\"})\n",
    "print(f\"Logistic Regression Accuracy: {lr_accuracy}\")\n",
    "\n",
    "# 评估模型的F1分数\n",
    "lr_f1 = evaluator.evaluate(lr_predictions, {evaluator.metricName: \"f1\"})\n",
    "print(f\"Logistic Regression F1 Score: {lr_f1}\")\n",
    "\n",
    "# 评估模型的召回率\n",
    "lr_recall = evaluator.evaluate(lr_predictions, {evaluator.metricName: \"weightedRecall\"})\n",
    "print(f\"Logistic Regression Recall: {lr_recall}\")"
   ]
  },
  {
   "cell_type": "markdown",
   "id": "40dd2497",
   "metadata": {},
   "source": [
    "## Random Forest"
   ]
  },
  {
   "cell_type": "code",
   "execution_count": 12,
   "id": "5ffb9a1e",
   "metadata": {},
   "outputs": [],
   "source": [
    "# 初始化模型\n",
    "rf = RandomForestClassifier(featuresCol=\"features\", labelCol=\"TARGET\")\n",
    "\n",
    "# 训练模型\n",
    "rf_model = rf.fit(train_data)\n",
    "\n",
    "# 测试集上进行预测\n",
    "rf_predictions = rf_model.transform(test_data)"
   ]
  },
  {
   "cell_type": "code",
   "execution_count": 14,
   "id": "8967c028",
   "metadata": {},
   "outputs": [
    {
     "name": "stdout",
     "output_type": "stream",
     "text": [
      "Random Forest Accuracy: 0.9228509648729142\n",
      "Random Forest F1 Score: 0.8858241423023199\n",
      "Random Forest Recall: 0.9228509648729142\n"
     ]
    }
   ],
   "source": [
    "# 初始化评估器\n",
    "evaluator = MulticlassClassificationEvaluator(labelCol=\"TARGET\", predictionCol=\"prediction\")\n",
    "\n",
    "# 评估模型的准确率\n",
    "rf_accuracy = evaluator.evaluate(rf_predictions, {evaluator.metricName: \"accuracy\"})\n",
    "print(f\"Random Forest Accuracy: {rf_accuracy}\")\n",
    "\n",
    "# 评估模型的F1分数\n",
    "rf_f1 = evaluator.evaluate(rf_predictions, {evaluator.metricName: \"f1\"})\n",
    "print(f\"Random Forest F1 Score: {rf_f1}\")\n",
    "\n",
    "# 评估模型的召回率\n",
    "rf_recall = evaluator.evaluate(rf_predictions, {evaluator.metricName: \"weightedRecall\"})\n",
    "print(f\"Random Forest Recall: {rf_recall}\")"
   ]
  },
  {
   "cell_type": "markdown",
   "id": "f75b8e7b",
   "metadata": {},
   "source": [
    "## GBT Classifier"
   ]
  },
  {
   "cell_type": "code",
   "execution_count": 16,
   "id": "034d34da",
   "metadata": {},
   "outputs": [],
   "source": [
    "# 初始化模型\n",
    "gbt = GBTClassifier(featuresCol=\"features\", labelCol=\"TARGET\")\n",
    "\n",
    "# 训练模型\n",
    "gbt_model = gbt.fit(train_data)\n",
    "\n",
    "# 测试集上进行预测\n",
    "gbt_predictions = gbt_model.transform(test_data)"
   ]
  },
  {
   "cell_type": "code",
   "execution_count": 17,
   "id": "ef021aa4",
   "metadata": {},
   "outputs": [
    {
     "name": "stdout",
     "output_type": "stream",
     "text": [
      "GBT Classifier Accuracy: 0.9228101668638571\n",
      "GBT Classifier F1 Score: 0.8858037757038169\n",
      "GBT Classifier Recall: 0.9228101668638571\n"
     ]
    }
   ],
   "source": [
    "# 初始化评估器\n",
    "evaluator = MulticlassClassificationEvaluator(labelCol=\"TARGET\", predictionCol=\"prediction\")\n",
    "\n",
    "# 评估模型的准确率\n",
    "gbt_accuracy = evaluator.evaluate(gbt_predictions, {evaluator.metricName: \"accuracy\"})\n",
    "print(f\"GBT Classifier Accuracy: {gbt_accuracy}\")\n",
    "\n",
    "# 评估模型的F1分数\n",
    "gbt_f1 = evaluator.evaluate(gbt_predictions, {evaluator.metricName: \"f1\"})\n",
    "print(f\"GBT Classifier F1 Score: {gbt_f1}\")\n",
    "\n",
    "# 评估模型的召回率\n",
    "gbt_recall = evaluator.evaluate(gbt_predictions, {evaluator.metricName: \"weightedRecall\"})\n",
    "print(f\"GBT Classifier Recall: {gbt_recall}\")"
   ]
  },
  {
   "cell_type": "markdown",
   "id": "787009a9",
   "metadata": {},
   "source": [
    "## 多层感知机（MLP）"
   ]
  },
  {
   "cell_type": "code",
   "execution_count": 22,
   "id": "e0cb90ad",
   "metadata": {},
   "outputs": [],
   "source": [
    "# 定义MLP模型\n",
    "layers = [len(feature_columns), 5, 4, 2]  # 层结构：输入层、两个隐藏层、输出层\n",
    "mlp = MultilayerPerceptronClassifier(layers=layers, featuresCol=\"features\", labelCol=\"TARGET\", seed=1234)\n",
    "\n",
    "# 训练模型\n",
    "mlp_model = mlp.fit(train_data)\n",
    "\n",
    "# 测试集上进行预测\n",
    "mlp_predictions = mlp_model.transform(test_data)"
   ]
  },
  {
   "cell_type": "code",
   "execution_count": 23,
   "id": "54a4791b",
   "metadata": {},
   "outputs": [
    {
     "name": "stdout",
     "output_type": "stream",
     "text": [
      "MLP Accuracy: 0.9228509648729142\n",
      "MLP F1 Score: 0.8858241423023199\n",
      "MLP Recall: 0.9228509648729142\n"
     ]
    }
   ],
   "source": [
    "# 初始化评估器\n",
    "evaluator = MulticlassClassificationEvaluator(labelCol=\"TARGET\", predictionCol=\"prediction\")\n",
    "\n",
    "# 评估模型的准确率\n",
    "mlp_accuracy = evaluator.evaluate(mlp_predictions, {evaluator.metricName: \"accuracy\"})\n",
    "print(f\"MLP Accuracy: {mlp_accuracy}\")\n",
    "\n",
    "# 评估模型的F1分数\n",
    "mlp_f1 = evaluator.evaluate(mlp_predictions, {evaluator.metricName: \"f1\"})\n",
    "print(f\"MLP F1 Score: {mlp_f1}\")\n",
    "\n",
    "# 评估模型的召回率\n",
    "mlp_recall = evaluator.evaluate(mlp_predictions, {evaluator.metricName: \"weightedRecall\"})\n",
    "print(f\"MLP Recall: {mlp_recall}\")"
   ]
  },
  {
   "cell_type": "markdown",
   "id": "59e4d5f7",
   "metadata": {},
   "source": [
    "## 关闭Spark会话"
   ]
  },
  {
   "cell_type": "code",
   "execution_count": 18,
   "id": "d942f218",
   "metadata": {},
   "outputs": [],
   "source": [
    "# 关闭Spark会话\n",
    "spark.stop()"
   ]
  },
  {
   "cell_type": "code",
   "execution_count": 4,
   "id": "4678e6e3",
   "metadata": {},
   "outputs": [
    {
     "data": {
      "image/png": "[encoded data removed]",
      "text/plain": [
       "<Figure size 720x432 with 1 Axes>"
      ]
     },
     "metadata": {
      "needs_background": "light"
     },
     "output_type": "display_data"
    }
   ],
   "source": [
    "import matplotlib.pyplot as plt\n",
    "\n",
    "# Data\n",
    "models = ['MLP', 'GBT Classifier', 'Random Forest', 'Logistic Regression']\n",
    "\n",
    "# Plotting\n",
    "x = range(len(models))\n",
    "plt.figure(figsize=(10, 6))\n",
    "\n",
    "plt.bar([a - 0.2 for a in x], accuracy, width=0.2, label='Accuracy', align='center')\n",
    "plt.bar(x, f1_score, width=0.2, label='F1 Score', align='center')\n",
    "plt.bar([a + 0.2 for a in x], recall, width=0.2, label='Recall', align='center')\n",
    "\n",
    "plt.xlabel('Models')\n",
    "plt.ylabel('Scores')\n",
    "plt.title('Comparison of Model Performance')\n",
    "plt.xticks(x, models)\n",
    "plt.legend()\n",
    "\n",
    "plt.tight_layout()\n",
    "plt.show()\n"
   ]
  },
  {
   "cell_type": "code",
   "execution_count": null,
   "id": "05c64dbb",
   "metadata": {},
   "outputs": [],
   "source": []
  }
 ],
 "metadata": {
  "kernelspec": {
   "display_name": "Python 3",
   "language": "python",
   "name": "python3"
  }
 },
 "nbformat": 4,
 "nbformat_minor": 5
}
